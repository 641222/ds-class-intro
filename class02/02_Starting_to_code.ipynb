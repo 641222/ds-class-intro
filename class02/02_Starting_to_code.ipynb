{
 "cells": [
  {
   "cell_type": "markdown",
   "metadata": {},
   "source": [
    "# Intro to Python3 - Class02\n",
    "\n",
    "### Class agenda:\n",
    "##### 4. Collections: `list`, `tuple`, `set`, and `dictionary`\n",
    "##### 5. Iteration: loops and comprehensions\n",
    "##### 6. Writing functions\n",
    "\n",
    "##### Before we start new class, a few tips/resouces:\n",
    "- Jupyter Notebook [quickstart](https://jupyter.readthedocs.io/en/latest/content-quickstart.html): learn about how to use the basic functions and shortcuts.\n",
    "- Windox v.s. Unix commands [cheat sheet]: if you are not fluent in both (like me:) feel free to use this guide to understand what I'm trying to do and use the right command for your OS.\n",
    "- Git [interactive tutorial](https://learngitbranching.js.org/?locale=en_US): very easy to follow and you can try all the `git` commands in web browser.\n",
    "- Try to get comfortable with [using command line/terminal](https://www.codecademy.com/articles/command-line-commands), this resource gives you some general ideas about the basics.\n",
    "- More on [virtual environment](https://docs.conda.io/projects/conda/en/latest/user-guide/getting-started.html#managing-environments) if you are not sure why/how we set up `py3basics` after downloading Anaconda.\n",
    "- Use [issues](https://github.com/emma-oc/ds-class-intro/issues) in class repo for Q&A."
   ]
  },
  {
   "cell_type": "code",
   "execution_count": null,
   "metadata": {},
   "outputs": [],
   "source": []
  }
 ],
 "metadata": {
  "kernelspec": {
   "display_name": "Python 3",
   "language": "python",
   "name": "python3"
  },
  "language_info": {
   "codemirror_mode": {
    "name": "ipython",
    "version": 3
   },
   "file_extension": ".py",
   "mimetype": "text/x-python",
   "name": "python",
   "nbconvert_exporter": "python",
   "pygments_lexer": "ipython3",
   "version": "3.6.6"
  }
 },
 "nbformat": 4,
 "nbformat_minor": 2
}
